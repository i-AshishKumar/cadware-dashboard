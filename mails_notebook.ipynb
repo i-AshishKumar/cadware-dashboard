{
 "cells": [
  {
   "cell_type": "code",
   "execution_count": 1,
   "id": "4b96672c-d403-44c9-919f-927510922030",
   "metadata": {},
   "outputs": [],
   "source": [
    "from pathlib import Path\n",
    "import pandas as pd\n",
    "import re"
   ]
  },
  {
   "cell_type": "code",
   "execution_count": 2,
   "id": "d8242ed8-f207-4e85-aa0c-782b96773bc5",
   "metadata": {},
   "outputs": [],
   "source": [
    "mailing_list = pd.read_csv(\"Join Mailing List/join-our-mailing-list-2025-07-21.csv\")"
   ]
  },
  {
   "cell_type": "code",
   "execution_count": 3,
   "id": "0bd158cf-faa9-4469-b012-b5859f8b6b4e",
   "metadata": {
    "scrolled": true
   },
   "outputs": [
    {
     "data": {
      "text/plain": [
       "Index(['How did you hear about us?', 'Submission ID', 'Submission Create Date',\n",
       "       'Submission Status', 'Source URL', 'Submitter Browser',\n",
       "       'Submission Admin View URL', 'Submission Serial Number', 'User Id',\n",
       "       'Submitter Device', 'Submitter IP'],\n",
       "      dtype='object')"
      ]
     },
     "execution_count": 3,
     "metadata": {},
     "output_type": "execute_result"
    }
   ],
   "source": [
    "mailing_list.columns"
   ]
  },
  {
   "cell_type": "code",
   "execution_count": 4,
   "id": "6ec670b8-190c-4b0c-bc20-bb9bb64076b4",
   "metadata": {},
   "outputs": [],
   "source": [
    "mailing_list = mailing_list.drop(columns = ['Submission ID', 'Submitter Browser', 'User Id', 'Submission Status','Submission Admin View URL', 'Source URL', 'Submission Serial Number'])"
   ]
  },
  {
   "cell_type": "code",
   "execution_count": 10,
   "id": "87678382-df0e-4091-843c-49ae856bae77",
   "metadata": {},
   "outputs": [
    {
     "data": {
      "text/plain": [
       "34"
      ]
     },
     "execution_count": 10,
     "metadata": {},
     "output_type": "execute_result"
    }
   ],
   "source": [
    "len(mailing_list)"
   ]
  }
 ],
 "metadata": {
  "kernelspec": {
   "display_name": "Python 3 (ipykernel)",
   "language": "python",
   "name": "python3"
  },
  "language_info": {
   "codemirror_mode": {
    "name": "ipython",
    "version": 3
   },
   "file_extension": ".py",
   "mimetype": "text/x-python",
   "name": "python",
   "nbconvert_exporter": "python",
   "pygments_lexer": "ipython3",
   "version": "3.13.5"
  }
 },
 "nbformat": 4,
 "nbformat_minor": 5
}
